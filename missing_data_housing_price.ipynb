{
 "cells": [
  {
   "cell_type": "code",
   "execution_count": 71,
   "metadata": {
    "collapsed": true
   },
   "outputs": [],
   "source": [
    "from __future__ import print_function\n",
    "\n",
    "import math\n",
    "\n",
    "from IPython import display\n",
    "from matplotlib import cm\n",
    "from matplotlib import gridspec\n",
    "from matplotlib import pyplot as plt\n",
    "import numpy as np\n",
    "import pandas as pd\n",
    "from sklearn import metrics\n",
    "import tensorflow as tf\n",
    "from tensorflow.python.data import Dataset\n",
    "\n",
    "tf.logging.set_verbosity(tf.logging.ERROR)\n",
    "pd.options.display.max_rows = 85\n",
    "pd.options.display.max_columns = 200\n",
    "pd.options.display.float_format = '{:.1f}'.format\n",
    "\n",
    "train_df = pd.read_csv(\"./train.csv\", sep=\",\")\n",
    "test_df = pd.read_csv(\"./test.csv\", sep=\",\")\n",
    "\n",
    "train_df = train_df.reindex(np.random.permutation(train_df.index))"
   ]
  },
  {
   "cell_type": "code",
   "execution_count": 72,
   "metadata": {
    "collapsed": true
   },
   "outputs": [],
   "source": [
    "combined_df = pd.concat([train_df, test_df],sort=False)\n",
    "null_columns = []\n",
    "null_column_features = []\n",
    "for column in train_df:\n",
    "    if combined_df[column].isnull().any():\n",
    "        null_columns.append(column)\n",
    "        null_column_features.append(column + \"_Indicator\")\n"
   ]
  },
  {
   "cell_type": "code",
   "execution_count": 73,
   "metadata": {
    "collapsed": true
   },
   "outputs": [],
   "source": [
    "# Delete rows with null data, cant drop rows with null data cus none left\n",
    "# train_df.dropna(inplace = True)\n",
    "# display.display(train_df.describe())\n",
    "\n",
    "# all_columns = train_df.columns.tolist()\n",
    "# id_target_columns = ['Id', 'SalePrice']\n",
    "# num_columns = [x for x in train_df._get_numeric_data().columns.tolist() if (x not in id_target_columns)]\n",
    "# cat_columns = [x for x in all_columns if (x not in id_target_columns) and (x not in num_columns)]\n",
    "# print(len(cat_columns), len(num_columns), len(null_columns))\n",
    "\n"
   ]
  },
  {
   "cell_type": "code",
   "execution_count": 74,
   "metadata": {},
   "outputs": [
    {
     "name": "stdout",
     "output_type": "stream",
     "text": [
      "54 25 35\n",
      "['MSZoning', 'Alley', 'Utilities', 'Exterior1st', 'Exterior2nd', 'MasVnrType', 'BsmtQual', 'BsmtCond', 'BsmtExposure', 'BsmtFinType1', 'BsmtFinType2', 'Electrical', 'KitchenQual', 'Functional', 'FireplaceQu', 'GarageType', 'GarageFinish', 'GarageQual', 'GarageCond', 'PoolQC', 'Fence', 'MiscFeature', 'SaleType']\n"
     ]
    }
   ],
   "source": [
    "all_columns = train_df.columns.tolist()\n",
    "id_target_columns = ['Id', 'SalePrice']\n",
    "num_columns = [x for x in train_df._get_numeric_data().columns.tolist() if (x not in id_target_columns) and (x not in null_columns)]\n",
    "null_num_columns = [x for x in train_df._get_numeric_data().columns.tolist() if (x not in id_target_columns)]\n",
    "cat_columns = [x for x in all_columns if (x not in num_columns) and (x not in id_target_columns)]\n",
    "null_cat_columns = [x for x in null_columns if (x not in null_num_columns) and (x not in id_target_columns)]\n",
    "print(len(cat_columns), len(num_columns), len(null_columns))\n",
    "print(null_cat_columns)\n"
   ]
  },
  {
   "cell_type": "code",
   "execution_count": 75,
   "metadata": {},
   "outputs": [
    {
     "name": "stdout",
     "output_type": "stream",
     "text": [
      "Id                  0\n",
      "MSSubClass          0\n",
      "MSZoning            0\n",
      "LotFrontage       259\n",
      "LotArea             0\n",
      "Street              0\n",
      "Alley            1369\n",
      "LotShape            0\n",
      "LandContour         0\n",
      "Utilities           0\n",
      "LotConfig           0\n",
      "LandSlope           0\n",
      "Neighborhood        0\n",
      "Condition1          0\n",
      "Condition2          0\n",
      "BldgType            0\n",
      "HouseStyle          0\n",
      "OverallQual         0\n",
      "OverallCond         0\n",
      "YearBuilt           0\n",
      "YearRemodAdd        0\n",
      "RoofStyle           0\n",
      "RoofMatl            0\n",
      "Exterior1st         0\n",
      "Exterior2nd         0\n",
      "MasVnrType          8\n",
      "MasVnrArea          8\n",
      "ExterQual           0\n",
      "ExterCond           0\n",
      "Foundation          0\n",
      "BsmtQual           37\n",
      "BsmtCond           37\n",
      "BsmtExposure       38\n",
      "BsmtFinType1       37\n",
      "BsmtFinSF1          0\n",
      "BsmtFinType2       38\n",
      "BsmtFinSF2          0\n",
      "BsmtUnfSF           0\n",
      "TotalBsmtSF         0\n",
      "Heating             0\n",
      "HeatingQC           0\n",
      "CentralAir          0\n",
      "Electrical          1\n",
      "1stFlrSF            0\n",
      "2ndFlrSF            0\n",
      "LowQualFinSF        0\n",
      "GrLivArea           0\n",
      "BsmtFullBath        0\n",
      "BsmtHalfBath        0\n",
      "FullBath            0\n",
      "HalfBath            0\n",
      "BedroomAbvGr        0\n",
      "KitchenAbvGr        0\n",
      "KitchenQual         0\n",
      "TotRmsAbvGrd        0\n",
      "Functional          0\n",
      "Fireplaces          0\n",
      "FireplaceQu       690\n",
      "GarageType         81\n",
      "GarageYrBlt        81\n",
      "GarageFinish       81\n",
      "GarageCars          0\n",
      "GarageArea          0\n",
      "GarageQual         81\n",
      "GarageCond         81\n",
      "PavedDrive          0\n",
      "WoodDeckSF          0\n",
      "OpenPorchSF         0\n",
      "EnclosedPorch       0\n",
      "3SsnPorch           0\n",
      "ScreenPorch         0\n",
      "PoolArea            0\n",
      "PoolQC           1453\n",
      "Fence            1179\n",
      "MiscFeature      1406\n",
      "MiscVal             0\n",
      "MoSold              0\n",
      "YrSold              0\n",
      "SaleType            0\n",
      "SaleCondition       0\n",
      "SalePrice           0\n",
      "dtype: int64\n"
     ]
    }
   ],
   "source": [
    "print (train_df.isnull().sum())"
   ]
  },
  {
   "cell_type": "code",
   "execution_count": 78,
   "metadata": {},
   "outputs": [
    {
     "name": "stdout",
     "output_type": "stream",
     "text": [
      "Id                 0\n",
      "MSSubClass         0\n",
      "MSZoning           0\n",
      "LotFrontage      227\n",
      "LotArea            0\n",
      "Street             0\n",
      "Alley              0\n",
      "LotShape           0\n",
      "LandContour        0\n",
      "Utilities          0\n",
      "LotConfig          0\n",
      "LandSlope          0\n",
      "Neighborhood       0\n",
      "Condition1         0\n",
      "Condition2         0\n",
      "BldgType           0\n",
      "HouseStyle         0\n",
      "OverallQual        0\n",
      "OverallCond        0\n",
      "YearBuilt          0\n",
      "YearRemodAdd       0\n",
      "RoofStyle          0\n",
      "RoofMatl           0\n",
      "Exterior1st        0\n",
      "Exterior2nd        0\n",
      "MasVnrType         0\n",
      "MasVnrArea        15\n",
      "ExterQual          0\n",
      "ExterCond          0\n",
      "Foundation         0\n",
      "BsmtQual           0\n",
      "BsmtCond           0\n",
      "BsmtExposure       0\n",
      "BsmtFinType1       0\n",
      "BsmtFinSF1         1\n",
      "BsmtFinType2       0\n",
      "BsmtFinSF2         1\n",
      "BsmtUnfSF          1\n",
      "TotalBsmtSF        1\n",
      "Heating            0\n",
      "HeatingQC          0\n",
      "CentralAir         0\n",
      "Electrical         0\n",
      "1stFlrSF           0\n",
      "2ndFlrSF           0\n",
      "LowQualFinSF       0\n",
      "GrLivArea          0\n",
      "BsmtFullBath       2\n",
      "BsmtHalfBath       2\n",
      "FullBath           0\n",
      "HalfBath           0\n",
      "BedroomAbvGr       0\n",
      "KitchenAbvGr       0\n",
      "KitchenQual        0\n",
      "TotRmsAbvGrd       0\n",
      "Functional         0\n",
      "Fireplaces         0\n",
      "FireplaceQu        0\n",
      "GarageType         0\n",
      "GarageYrBlt       78\n",
      "GarageFinish       0\n",
      "GarageCars         1\n",
      "GarageArea         1\n",
      "GarageQual         0\n",
      "GarageCond         0\n",
      "PavedDrive         0\n",
      "WoodDeckSF         0\n",
      "OpenPorchSF        0\n",
      "EnclosedPorch      0\n",
      "3SsnPorch          0\n",
      "ScreenPorch        0\n",
      "PoolArea           0\n",
      "PoolQC             0\n",
      "Fence              0\n",
      "MiscFeature        0\n",
      "MiscVal            0\n",
      "MoSold             0\n",
      "YrSold             0\n",
      "SaleType           0\n",
      "SaleCondition      0\n",
      "dtype: int64\n"
     ]
    }
   ],
   "source": [
    "# replace all null values in categorical data with a 'U'\n",
    "for null_cat_column in null_cat_columns:\n",
    "    train_df[null_cat_column].fillna('U', inplace = True)\n",
    "    test_df[null_cat_column].fillna('U', inplace = True)\n",
    "\n",
    "# replace all null values in numerical data with a 'U'\n",
    "for null_num_column in null_num_columns:\n",
    "    train_df[null_num_column].fillna('U', inplace = True)\n",
    "    test_df[null_num_column].fillna('U', inplace = True)\n",
    "\n",
    "print (test_df.isnull().sum())"
   ]
  },
  {
   "cell_type": "code",
   "execution_count": 65,
   "metadata": {
    "collapsed": true
   },
   "outputs": [],
   "source": [
    "def preprocess_features(df):\n",
    "    selected_features = df[num_columns + cat_columns]\n",
    "    processed_features = selected_features.copy()\n",
    "    for column in null_columns:\n",
    "        processed_features.loc[(df[column].isnull()), column + \"_Indicator\"] = int(0)\n",
    "        processed_features.loc[(df[column].notnull()), column + \"_Indicator\"] = int(1)\n",
    "        processed_features[column + \"_Indicator\"] = processed_features[column + \"_Indicator\"].astype(int)\n",
    "    return processed_features\n",
    "\n",
    "def preprocess_targets(df):\n",
    "    output_targets = pd.DataFrame()\n",
    "#     output_targets[\"SalePrice\"] = (df[\"SalePrice\"] / 1000.0)\n",
    "    output_targets[\"SalePrice\"] = (np.log(df['SalePrice']))\n",
    "    return output_targets\n"
   ]
  },
  {
   "cell_type": "code",
   "execution_count": 4,
   "metadata": {
    "collapsed": true
   },
   "outputs": [],
   "source": [
    "# Choose the first 1022 (out of 1460) examples for training.\n",
    "training_examples = preprocess_features(train_df.head(1022))\n",
    "training_targets = preprocess_targets(train_df.head(1022))\n",
    "\n",
    "# Choose the last 438 (out of 1460) examples for validation.\n",
    "validation_examples = preprocess_features(train_df.tail(438))\n",
    "validation_targets = preprocess_targets(train_df.tail(438))\n",
    "\n",
    "# print(training_examples)\n",
    "\n",
    "# print(\"Training examples summary:\")\n",
    "# display.display(training_examples.describe())\n",
    "# print(\"Validation examples summary:\")\n",
    "# display.display(validation_examples.describe())\n",
    "\n",
    "# print(\"Training targets summary:\")\n",
    "# display.display(training_targets.describe())\n",
    "# print(\"Validation targets summary:\")\n",
    "# display.display(validation_targets.describe())\n"
   ]
  },
  {
   "cell_type": "code",
   "execution_count": 5,
   "metadata": {
    "collapsed": true
   },
   "outputs": [],
   "source": [
    "def construct_feature_columns(input_features):\n",
    "    numeric_column_set = set([tf.feature_column.numeric_column(my_feature) for my_feature in num_columns])\n",
    "    \n",
    "    null_categorical_columns = [tf.feature_column.categorical_column_with_identity(key=my_feature, num_buckets=2) for my_feature in null_column_features]\n",
    "    null_categorical_indicator_set = set([tf.feature_column.indicator_column(categorical_column) for categorical_column in null_categorical_columns])\n",
    "    \n",
    "    categorical_columns = [tf.feature_column.categorical_column_with_vocabulary_list(\n",
    "        my_feature, list(set(train_df[my_feature]))\n",
    "    ) for my_feature in cat_columns]\n",
    "    categorical_columns_indicator_set = set([tf.feature_column.indicator_column(categorical_column) for categorical_column in categorical_columns])\n",
    "    \n",
    "    return null_categorical_indicator_set | categorical_columns_indicator_set | numeric_column_set\n"
   ]
  },
  {
   "cell_type": "code",
   "execution_count": 6,
   "metadata": {
    "collapsed": true
   },
   "outputs": [],
   "source": [
    "def my_input_fn(features, targets, batch_size=1, shuffle=True, num_epochs=None):\n",
    "    # Convert pandas data into a dict of np arrays.\n",
    "    features = {key:np.array(value) for key,value in dict(features).items()}                                           \n",
    "\n",
    "    # Construct a dataset, and configure batching/repeating.\n",
    "    ds = Dataset.from_tensor_slices((features,targets)) # warning: 2GB limit\n",
    "    ds = ds.batch(batch_size).repeat(num_epochs)\n",
    "\n",
    "    # Shuffle the data, if specified.\n",
    "    if shuffle:\n",
    "      ds = ds.shuffle(10000)\n",
    "\n",
    "    # Return the next batch of data.\n",
    "    features, labels = ds.make_one_shot_iterator().get_next()\n",
    "    return features, labels\n"
   ]
  },
  {
   "cell_type": "code",
   "execution_count": 7,
   "metadata": {
    "collapsed": true
   },
   "outputs": [],
   "source": [
    "def train_nn_regression_model(\n",
    "    my_optimizer,\n",
    "    steps,\n",
    "    batch_size,\n",
    "    hidden_units,\n",
    "    training_examples,\n",
    "    training_targets,\n",
    "    validation_examples,\n",
    "    validation_targets,\n",
    "    model_dir):\n",
    "\n",
    "    periods = 10\n",
    "    steps_per_period = steps / periods\n",
    "\n",
    "    # Create a DNNRegressor object.\n",
    "    my_optimizer = tf.contrib.estimator.clip_gradients_by_norm(my_optimizer, 5.0)\n",
    "    dnn_regressor = tf.estimator.DNNRegressor(\n",
    "        feature_columns=construct_feature_columns(training_examples),\n",
    "        hidden_units=hidden_units,\n",
    "        optimizer=my_optimizer,\n",
    "        model_dir=model_dir\n",
    "    )\n",
    "\n",
    "    # Create input functions.\n",
    "    training_input_fn = lambda: my_input_fn(training_examples, \n",
    "                                          training_targets[\"SalePrice\"], \n",
    "                                          batch_size=batch_size)\n",
    "    predict_training_input_fn = lambda: my_input_fn(training_examples, \n",
    "                                                  training_targets[\"SalePrice\"], \n",
    "                                                  num_epochs=1, \n",
    "                                                  shuffle=False)\n",
    "    predict_validation_input_fn = lambda: my_input_fn(validation_examples, \n",
    "                                                    validation_targets[\"SalePrice\"], \n",
    "                                                    num_epochs=1, \n",
    "                                                    shuffle=False)\n",
    "\n",
    "    # Train the model, but do so inside a loop so that we can periodically assess\n",
    "    # loss metrics.\n",
    "    print(\"Training model...\")\n",
    "    print(\"RMSE (on training data):\")\n",
    "    training_rmse = []\n",
    "    validation_rmse = []\n",
    "    for period in range (0, periods):\n",
    "        # Train the model, starting from the prior state.\n",
    "        dnn_regressor.train(\n",
    "            input_fn=training_input_fn,\n",
    "            steps=steps_per_period\n",
    "        )\n",
    "        # Take a break and compute predictions.\n",
    "        training_predictions = dnn_regressor.predict(input_fn=predict_training_input_fn)\n",
    "        training_predictions = np.array([item['predictions'][0] for item in training_predictions])\n",
    "\n",
    "        validation_predictions = dnn_regressor.predict(input_fn=predict_validation_input_fn)\n",
    "        validation_predictions = np.array([item['predictions'][0] for item in validation_predictions])\n",
    "\n",
    "        # Compute training and validation loss.\n",
    "        training_root_mean_squared_error = math.sqrt(\n",
    "            metrics.mean_squared_error(training_predictions, training_targets))\n",
    "        validation_root_mean_squared_error = math.sqrt(\n",
    "            metrics.mean_squared_error(validation_predictions, validation_targets))\n",
    "        # Occasionally print the current loss.\n",
    "        print(\"  period %02d : %0.2f\" % (period, training_root_mean_squared_error))\n",
    "        # Add the loss metrics from this period to our list.\n",
    "        training_rmse.append(training_root_mean_squared_error)\n",
    "        validation_rmse.append(validation_root_mean_squared_error)\n",
    "    print(\"Model training finished.\")\n",
    "\n",
    "    # Output a graph of loss metrics over periods.\n",
    "    plt.ylabel(\"RMSE\")\n",
    "    plt.xlabel(\"Periods\")\n",
    "    plt.title(\"Root Mean Squared Error vs. Periods\")\n",
    "    plt.tight_layout()\n",
    "    plt.plot(training_rmse, label=\"training\")\n",
    "    plt.plot(validation_rmse, label=\"validation\")\n",
    "    plt.legend()\n",
    "\n",
    "    print(\"Final RMSE (on training data):   %0.2f\" % training_root_mean_squared_error)\n",
    "    print(\"Final RMSE (on validation data): %0.2f\" % validation_root_mean_squared_error)\n",
    "#     print(\"Final RMSE (on training data):   %0.2f\" % np.exp(training_root_mean_squared_error))\n",
    "#     print(\"Final RMSE (on validation data): %0.2f\" % np.exp(validation_root_mean_squared_error))\n",
    "    return dnn_regressor, training_rmse, validation_rmse\n"
   ]
  },
  {
   "cell_type": "code",
   "execution_count": 8,
   "metadata": {
    "collapsed": true
   },
   "outputs": [],
   "source": [
    "def linear_scale(series):\n",
    "    min_val = series.min()\n",
    "    max_val = series.max()\n",
    "    scale = (max_val - min_val) / 2.0\n",
    "    return series.apply(lambda x:((x - min_val) / scale) - 1.0)\n",
    "\n",
    "def normalize_linear_scale(examples_dataframe):\n",
    "    \"\"\"Returns a version of the input `DataFrame` that has all its features normalized linearly.\"\"\"\n",
    "    processed_features = examples_dataframe.copy()\n",
    "    for num_column in num_columns:\n",
    "        processed_features[num_column] = linear_scale(examples_dataframe[num_column])\n",
    "    return processed_features\n",
    "\n",
    "normalized_dataframe = normalize_linear_scale(preprocess_features(train_df))\n",
    "normalized_training_examples = normalized_dataframe.head(1022)\n",
    "normalized_validation_examples = normalized_dataframe.tail(438)\n"
   ]
  },
  {
   "cell_type": "code",
   "execution_count": 9,
   "metadata": {},
   "outputs": [
    {
     "name": "stdout",
     "output_type": "stream",
     "text": [
      "Training model...\n",
      "RMSE (on training data):\n",
      "  period 00 : 0.31\n",
      "  period 01 : 0.31\n",
      "  period 02 : 0.26\n",
      "  period 03 : 0.29\n",
      "  period 04 : 0.26\n",
      "  period 05 : 0.28\n",
      "  period 06 : 0.26\n",
      "  period 07 : 0.25\n",
      "  period 08 : 0.26\n",
      "  period 09 : 0.28\n",
      "Model training finished.\n",
      "Final RMSE (on training data):   0.28\n",
      "Final RMSE (on validation data): 0.31\n"
     ]
    },
    {
     "data": {
      "image/png": "[encoded data removed]",
      "text/plain": [
       "<Figure size 432x288 with 1 Axes>"
      ]
     },
     "metadata": {
      "needs_background": "light"
     },
     "output_type": "display_data"
    }
   ],
   "source": [
    "_ = train_nn_regression_model(\n",
    "    my_optimizer=tf.train.GradientDescentOptimizer(learning_rate=0.005),\n",
    "    steps=5000,\n",
    "    batch_size=10,\n",
    "    hidden_units=[114, 114],\n",
    "    training_examples=normalized_training_examples,\n",
    "    training_targets=training_targets,\n",
    "    validation_examples=normalized_validation_examples,\n",
    "    validation_targets=validation_targets,\n",
    "    model_dir='/tmp/missing_data1')\n"
   ]
  },
  {
   "cell_type": "code",
   "execution_count": 10,
   "metadata": {},
   "outputs": [
    {
     "name": "stdout",
     "output_type": "stream",
     "text": [
      "Training model...\n",
      "RMSE (on training data):\n",
      "  period 00 : 0.23\n",
      "  period 01 : 0.18\n",
      "  period 02 : 0.17\n",
      "  period 03 : 0.14\n",
      "  period 04 : 0.13\n",
      "  period 05 : 0.13\n",
      "  period 06 : 0.12\n",
      "  period 07 : 0.12\n",
      "  period 08 : 0.12\n",
      "  period 09 : 0.12\n",
      "Model training finished.\n",
      "Final RMSE (on training data):   0.12\n",
      "Final RMSE (on validation data): 0.17\n"
     ]
    },
    {
     "data": {
      "image/png": "[encoded data removed]",
      "text/plain": [
       "<Figure size 432x288 with 1 Axes>"
      ]
     },
     "metadata": {
      "needs_background": "light"
     },
     "output_type": "display_data"
    }
   ],
   "source": [
    "_ = train_nn_regression_model(\n",
    "    my_optimizer = tf.train.ProximalAdagradOptimizer(learning_rate=0.005, l2_regularization_strength=0.05),\n",
    "    steps=5000,\n",
    "    batch_size=10,\n",
    "    hidden_units=[114, 114],\n",
    "    training_examples=normalized_training_examples,\n",
    "    training_targets=training_targets,\n",
    "    validation_examples=normalized_validation_examples,\n",
    "    validation_targets=validation_targets,\n",
    "    model_dir='/tmp/missing_data2')"
   ]
  },
  {
   "cell_type": "code",
   "execution_count": 11,
   "metadata": {},
   "outputs": [
    {
     "name": "stdout",
     "output_type": "stream",
     "text": [
      "Training model...\n",
      "RMSE (on training data):\n",
      "  period 00 : 0.33\n",
      "  period 01 : 0.27\n",
      "  period 02 : 0.23\n",
      "  period 03 : 0.22\n",
      "  period 04 : 0.20\n",
      "  period 05 : 0.21\n",
      "  period 06 : 0.18\n",
      "  period 07 : 0.16\n",
      "  period 08 : 0.16\n",
      "  period 09 : 0.15\n",
      "Model training finished.\n",
      "Final RMSE (on training data):   0.15\n",
      "Final RMSE (on validation data): 0.20\n"
     ]
    },
    {
     "data": {
      "image/png": "[encoded data removed]",
      "text/plain": [
       "<Figure size 432x288 with 1 Axes>"
      ]
     },
     "metadata": {
      "needs_background": "light"
     },
     "output_type": "display_data"
    }
   ],
   "source": [
    "_ = train_nn_regression_model(\n",
    "    my_optimizer = tf.train.FtrlOptimizer(learning_rate=0.05, l2_regularization_strength=0.5),\n",
    "    steps=5000,\n",
    "    batch_size=10,\n",
    "    hidden_units=[114, 114],\n",
    "    training_examples=normalized_training_examples,\n",
    "    training_targets=training_targets,\n",
    "    validation_examples=normalized_validation_examples,\n",
    "    validation_targets=validation_targets,\n",
    "    model_dir='/tmp/missing_data3')"
   ]
  },
  {
   "cell_type": "code",
   "execution_count": null,
   "metadata": {
    "collapsed": true
   },
   "outputs": [],
   "source": []
  },
  {
   "cell_type": "code",
   "execution_count": null,
   "metadata": {
    "collapsed": true
   },
   "outputs": [],
   "source": []
  }
 ],
 "metadata": {
  "kernelspec": {
   "display_name": "Python 3",
   "language": "python",
   "name": "python3"
  },
  "language_info": {
   "codemirror_mode": {
    "name": "ipython",
    "version": 3
   },
   "file_extension": ".py",
   "mimetype": "text/x-python",
   "name": "python",
   "nbconvert_exporter": "python",
   "pygments_lexer": "ipython3",
   "version": "3.5.6"
  }
 },
 "nbformat": 4,
 "nbformat_minor": 2
}
